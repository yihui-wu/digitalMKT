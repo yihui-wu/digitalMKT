{
 "cells": [
  {
   "cell_type": "code",
   "execution_count": 4,
   "metadata": {},
   "outputs": [
    {
     "name": "stdout",
     "output_type": "stream",
     "text": [
      "    id                 date  \\\n",
      "0    1  2020-02-24 11:27:28   \n",
      "1    2  2020-01-18 11:39:07   \n",
      "2    3  2019-11-24 14:17:33   \n",
      "3    4  2019-09-19 15:03:57   \n",
      "4    5  2019-09-19 10:00:53   \n",
      "5    6  2019-09-11 10:31:42   \n",
      "6    7  2019-09-11 10:30:28   \n",
      "7    8  2019-09-11 10:20:27   \n",
      "8    9  2019-09-11 10:12:55   \n",
      "9   10  2019-08-20 14:33:29   \n",
      "10  11  2019-08-02 09:52:37   \n",
      "11  12  2019-07-19 08:27:41   \n",
      "12  13  2019-04-13 23:34:54   \n",
      "13  22  2019-01-27 23:10:20   \n",
      "14  23  2019-01-04 13:48:13   \n",
      "15  24  2018-09-28 11:38:45   \n",
      "16  25  2018-09-28 11:29:55   \n",
      "17  26  2018-09-28 11:28:23   \n",
      "18  27  2018-06-19 07:45:44   \n",
      "19  28  2018-06-01 09:42:23   \n",
      "20  29  2018-05-21 13:44:44   \n",
      "\n",
      "                                              content  reached  engagements  \\\n",
      "0                                                            7            8   \n",
      "1                                              籠中小怪獸.       59           21   \n",
      "2                               二寶媽出門神器！ 小隻的堅持要站著....       65           18   \n",
      "3                         The little mimic - miffy !.       64           27   \n",
      "4                                 身為華人，用筷子吃東西再正常不過了！.       78           32   \n",
      "5                                                           36            4   \n",
      "6   甘川洞文化村，適合走走的小村落。遇見B216星球來的小王子，但是好多人湊到他身邊故作親熱的拍...       66           36   \n",
      "7   釜山行！ Miffy成天要抱抱，這趟累炸了！火氣也很大。 感謝最佳神隊友\"阿公\"，每天把小孫...       61           35   \n",
      "8                                                           61           35   \n",
      "9                                    寶貝啊！妳怎麼這麼愛皺眉頭呢？.       63           23   \n",
      "10  miffy 第一次離開家裡，步入校園。 toffee升上新班級同學都拆開了，老師也換了。. ...       64           26   \n",
      "11                          為娘的十八般武藝都要會，這次幫他們做了人魚尾巴~.       73           81   \n",
      "12                                       完全不同風格的一家人！.       82           56   \n",
      "13  和女兒的睡前對話。 娘：我整天搞妳們兩個，都快累死了！ 女兒：那妳就睡覺啊！那妳就睡覺啊！那...       78           30   \n",
      "14                                         見到本宮還不下跪！.       66           45   \n",
      "15                                                          44           11   \n",
      "16                                                           1            7   \n",
      "17  雙妃現在什麼都愛一樣的，又什麼都要比較，都買一樣的水壺了，居然比誰水比較多，為娘我都快瘋了，...       53           30   \n",
      "18                         睡飽飽，又和樂融融的一起玩！ 收假也不blue了~.       59           19   \n",
      "19  **頭痛** toffee現在只穿藍色黃色的衣服 miffy開始進入\"不要不要\"期 #到底是...       58           13   \n",
      "20  miffy一歲後,我們默默的解禁了電視,讓大人有時間可以喘口氣(不過最多也就是30分鐘). ...       64           18   \n",
      "\n",
      "    likes  comments  shared  \n",
      "0       6         2       0  \n",
      "1       7         0       0  \n",
      "2       8         0       0  \n",
      "3      10         1       0  \n",
      "4      12         4       0  \n",
      "5       3         0       0  \n",
      "6      21         0       0  \n",
      "7      14         0       0  \n",
      "8      13         0       0  \n",
      "9       9         0       0  \n",
      "10     15         0       0  \n",
      "11     31         1       0  \n",
      "12     21         1       0  \n",
      "13     12         2       0  \n",
      "14     16         2       0  \n",
      "15      4         0       0  \n",
      "16      5         0       0  \n",
      "17     12         0       0  \n",
      "18     10         0       0  \n",
      "19      9         0       0  \n",
      "20      8         0       0  \n"
     ]
    }
   ],
   "source": [
    "import pandas as pd\n",
    "import bokeh\n",
    "import pymysql.cursors\n",
    "\n",
    "connection = pymysql.connect(host='localhost',\n",
    "                             user='root',\n",
    "                             password='admin1234',\n",
    "                             db='fb_social_data',\n",
    "                             charset='utf8mb4',\n",
    "                             cursorclass=pymysql.cursors.DictCursor)\n",
    "\n",
    "sql = '''SELECT * FROM `fb_social_data`.`posts` '''\n",
    "data = pd.read_sql(sql, con=connection)\n",
    "print(data)"
   ]
  },
  {
   "cell_type": "code",
   "execution_count": null,
   "metadata": {},
   "outputs": [],
   "source": []
  }
 ],
 "metadata": {
  "kernelspec": {
   "display_name": "Python 3",
   "language": "python",
   "name": "python3"
  },
  "language_info": {
   "codemirror_mode": {
    "name": "ipython",
    "version": 3
   },
   "file_extension": ".py",
   "mimetype": "text/x-python",
   "name": "python",
   "nbconvert_exporter": "python",
   "pygments_lexer": "ipython3",
   "version": "3.8.1"
  }
 },
 "nbformat": 4,
 "nbformat_minor": 2
}
