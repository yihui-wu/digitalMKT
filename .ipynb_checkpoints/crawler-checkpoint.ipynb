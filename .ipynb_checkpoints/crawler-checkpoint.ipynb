{
 "cells": [
  {
   "cell_type": "code",
   "execution_count": 14,
   "metadata": {},
   "outputs": [
    {
     "name": "stderr",
     "output_type": "stream",
     "text": [
      "<ipython-input-14-5cd738d66037>:31: DeprecationWarning: use options instead of chrome_options\n",
      "  driver = webdriver.Chrome(os.getcwd()+\"/chromedriver\", chrome_options=options)\n"
     ]
    },
    {
     "name": "stdout",
     "output_type": "stream",
     "text": [
      "(已被Vedan刪除) <Kobe2630>1-6|0|-| 3/11\n",
      "\n",
      "                        INSERT INTO `new_media`.`ptt`(`title`,`num`,`author`,`date`) \n",
      "                        VALUES ('(已被Vedan刪除) <Kobe2630>1-6','0','-',' 3/11')\n",
      "                        \n",
      "Re: [討論] LBJ跟MJ都是GOAT不行嗎？|0|zxriffey| 3/11\n",
      "\n",
      "                        INSERT INTO `new_media`.`ptt`(`title`,`num`,`author`,`date`) \n",
      "                        VALUES ('Re: [討論] LBJ跟MJ都是GOAT不行嗎？','0','zxriffey',' 3/11')\n",
      "                        \n",
      "(已被Vedan刪除) <cha860430>1-2 3-5|0|-| 3/11\n",
      "\n",
      "                        INSERT INTO `new_media`.`ptt`(`title`,`num`,`author`,`date`) \n",
      "                        VALUES ('(已被Vedan刪除) <cha860430>1-2 3-5','0','-',' 3/11')\n",
      "                        \n",
      "Re: [討論] LBJ跟MJ都是GOAT不行嗎？|0|smallksc| 3/11\n",
      "\n",
      "                        INSERT INTO `new_media`.`ptt`(`title`,`num`,`author`,`date`) \n",
      "                        VALUES ('Re: [討論] LBJ跟MJ都是GOAT不行嗎？','0','smallksc',' 3/11')\n",
      "                        \n",
      "(本文已被刪除) [Mopack22926]|0|-| 3/11\n",
      "\n",
      "                        INSERT INTO `new_media`.`ptt`(`title`,`num`,`author`,`date`) \n",
      "                        VALUES ('(本文已被刪除) [Mopack22926]','0','-',' 3/11')\n",
      "                        \n",
      "(本文已被刪除) [go190214]|0|-| 3/10\n",
      "\n",
      "                        INSERT INTO `new_media`.`ptt`(`title`,`num`,`author`,`date`) \n",
      "                        VALUES ('(本文已被刪除) [go190214]','0','-',' 3/10')\n",
      "                        \n",
      "Re: [情報] 湖人助教：LBJ在昨日賽前主動表示他要防|0|playstore| 3/10\n",
      "\n",
      "                        INSERT INTO `new_media`.`ptt`(`title`,`num`,`author`,`date`) \n",
      "                        VALUES ('Re: [情報] 湖人助教：LBJ在昨日賽前主動表示他要防','0','playstore',' 3/10')\n",
      "                        \n",
      "(已被namie810303刪除) <leolu2013>1-1|0|-| 3/10\n",
      "\n",
      "                        INSERT INTO `new_media`.`ptt`(`title`,`num`,`author`,`date`) \n",
      "                        VALUES ('(已被namie810303刪除) <leolu2013>1-1','0','-',' 3/10')\n",
      "                        \n",
      "(已被namie810303刪除) <shifa>球迷討論|0|-| 3/10\n",
      "\n",
      "                        INSERT INTO `new_media`.`ptt`(`title`,`num`,`author`,`date`) \n",
      "                        VALUES ('(已被namie810303刪除) <shifa>球迷討論','0','-',' 3/10')\n",
      "                        \n",
      "Re: [討論] Curry是不是現今有成就也不被認可的球員?|0|vogue38| 3/09\n",
      "\n",
      "                        INSERT INTO `new_media`.`ptt`(`title`,`num`,`author`,`date`) \n",
      "                        VALUES ('Re: [討論] Curry是不是現今有成就也不被認可的球員?','0','vogue38',' 3/09')\n",
      "                        \n",
      "(本文已被刪除) [PttGod]|0|-| 3/09\n",
      "\n",
      "                        INSERT INTO `new_media`.`ptt`(`title`,`num`,`author`,`date`) \n",
      "                        VALUES ('(本文已被刪除) [PttGod]','0','-',' 3/09')\n",
      "                        \n",
      "(已被Vedan刪除) <ericgary>1-2|0|-| 3/09\n",
      "\n",
      "                        INSERT INTO `new_media`.`ptt`(`title`,`num`,`author`,`date`) \n",
      "                        VALUES ('(已被Vedan刪除) <ericgary>1-2','0','-',' 3/09')\n",
      "                        \n",
      "[情報] 守LBJ有多難？天空貝：一點挑戰性都沒有|0|karta1992560| 3/09\n",
      "\n",
      "                        INSERT INTO `new_media`.`ptt`(`title`,`num`,`author`,`date`) \n",
      "                        VALUES ('[情報] 守LBJ有多難？天空貝：一點挑戰性都沒有','0','karta1992560',' 3/09')\n",
      "                        \n",
      "[討論] 不能帶領球隊往前的將算角色球員嗎？|0|b9606022| 3/09\n",
      "\n",
      "                        INSERT INTO `new_media`.`ptt`(`title`,`num`,`author`,`date`) \n",
      "                        VALUES ('[討論] 不能帶領球隊往前的將算角色球員嗎？','0','b9606022',' 3/09')\n",
      "                        \n",
      "(已被dragon803刪除) <testtesttest>1-1 1-2違規|0|-| 3/09\n",
      "\n",
      "                        INSERT INTO `new_media`.`ptt`(`title`,`num`,`author`,`date`) \n",
      "                        VALUES ('(已被dragon803刪除) <testtesttest>1-1 1-2違規','0','-',' 3/09')\n",
      "                        \n",
      "[Live] 公牛 @ 籃網|0|Rambo| 3/09\n",
      "\n",
      "                        INSERT INTO `new_media`.`ptt`(`title`,`num`,`author`,`date`) \n",
      "                        VALUES ('[Live] 公牛 @ 籃網','0','Rambo',' 3/09')\n",
      "                        \n",
      "(已被Vedan刪除) <derrengay>1-1 1-2|0|-| 3/08\n",
      "\n",
      "                        INSERT INTO `new_media`.`ptt`(`title`,`num`,`author`,`date`) \n",
      "                        VALUES ('(已被Vedan刪除) <derrengay>1-1 1-2','0','-',' 3/08')\n",
      "                        \n",
      "(已被Vedan刪除) <OAKIE>1-1 1-2|0|-| 3/08\n",
      "\n",
      "                        INSERT INTO `new_media`.`ptt`(`title`,`num`,`author`,`date`) \n",
      "                        VALUES ('(已被Vedan刪除) <OAKIE>1-1 1-2','0','-',' 3/08')\n",
      "                        \n",
      "(本文已被刪除) [MyKay]|0|-| 3/08\n",
      "\n",
      "                        INSERT INTO `new_media`.`ptt`(`title`,`num`,`author`,`date`) \n",
      "                        VALUES ('(本文已被刪除) [MyKay]','0','-',' 3/08')\n",
      "                        \n",
      "(本文已被刪除) [s9837099]|0|-| 3/08\n",
      "\n",
      "                        INSERT INTO `new_media`.`ptt`(`title`,`num`,`author`,`date`) \n",
      "                        VALUES ('(本文已被刪除) [s9837099]','0','-',' 3/08')\n",
      "                        \n",
      "(已被V刪除) <zoo44>1-1 1-2 球迷討論 退|0|-| 3/08\n",
      "\n",
      "                        INSERT INTO `new_media`.`ptt`(`title`,`num`,`author`,`date`) \n",
      "                        VALUES ('(已被V刪除) <zoo44>1-1 1-2 球迷討論 退','0','-',' 3/08')\n",
      "                        \n",
      "(本文已被刪除) <hosanna1022>|0|-| 3/07\n",
      "\n",
      "                        INSERT INTO `new_media`.`ptt`(`title`,`num`,`author`,`date`) \n",
      "                        VALUES ('(本文已被刪除) <hosanna1022>','0','-',' 3/07')\n",
      "                        \n",
      "[討論] 很可惜，不過也不用太擔心公鹿|0|elgoogle| 3/07\n",
      "\n",
      "                        INSERT INTO `new_media`.`ptt`(`title`,`num`,`author`,`date`) \n",
      "                        VALUES ('[討論] 很可惜，不過也不用太擔心公鹿','0','elgoogle',' 3/07')\n",
      "                        \n",
      "Re: [花邊] 字母哥：本想35歲就退役，但想追隨LBJ的|0|a894392000| 3/07\n",
      "\n",
      "                        INSERT INTO `new_media`.`ptt`(`title`,`num`,`author`,`date`) \n",
      "                        VALUES ('Re: [花邊] 字母哥：本想35歲就退役，但想追隨LBJ的','0','a894392000',' 3/07')\n",
      "                        \n",
      "[新聞] 巴克利酸言酸語不斷 勇士格林怒嗆將搶飯碗|0|currykukuo| 3/07\n",
      "\n",
      "                        INSERT INTO `new_media`.`ptt`(`title`,`num`,`author`,`date`) \n",
      "                        VALUES ('[新聞] 巴克利酸言酸語不斷 勇士格林怒嗆將搶飯碗','0','currykukuo',' 3/07')\n",
      "                        \n"
     ]
    }
   ],
   "source": [
    "#從selenium引入webdriver\n",
    "from selenium import webdriver\n",
    "from selenium.webdriver.chrome.options import Options\n",
    "\n",
    "#引入beautifulsoup & 時間套件\n",
    "from bs4 import BeautifulSoup\n",
    "import time\n",
    "\n",
    "import os\n",
    "import csv\n",
    "import pymysql.cursors\n",
    "\n",
    "connection = pymysql.connect(host='localhost',\n",
    "                             user='root',\n",
    "                             password='admin1234',\n",
    "                             db='new_media',\n",
    "                             charset='utf8mb4',\n",
    "                             cursorclass=pymysql.cursors.DictCursor)\n",
    "\n",
    "from datetime import date\n",
    "today = date.today()\n",
    "search_date = today.strftime('%-m/%d')\n",
    "file_date = today.strftime('%-m-%d')\n",
    "\n",
    "#初始化選項\n",
    "options = Options()\n",
    "#背景執行chrome\n",
    "#options.add_argument('--headless')\n",
    "#options.add_argument('--disable-gpu')\n",
    "\n",
    "driver = webdriver.Chrome(os.getcwd()+\"/chromedriver\", chrome_options=options)\n",
    "\n",
    "try:\n",
    "    with connection.cursor() as cursor:\n",
    "        # 存成csv檔\n",
    "        with open(file_date+'data.csv','w',newline='',encoding='utf_8_sig') as csvfile:\n",
    "            driver.get('https://www.ptt.cc/bbs/NBA/index.html')\n",
    "            sourceCode = BeautifulSoup(driver.page_source)\n",
    "            last_page = sourceCode.select('a.btn.wide')[1]\n",
    "            start = last_page['href'].find('x')\n",
    "            end = last_page['href'].find('.')\n",
    "            index = last_page['href'][start+1:end]\n",
    "            #print(index)\n",
    "\n",
    "            for i in range(int(index),6495,-1):\n",
    "                #取得整個網頁\n",
    "                driver.get('https://www.ptt.cc/bbs/NBA/index'+ str(i) +'.html')\n",
    "\n",
    "                #轉譯成python看得懂的\n",
    "                sourceCode = BeautifulSoup(driver.page_source)\n",
    "                metaSection = sourceCode.select('div.r-list-container')[0]\n",
    "                sections = metaSection.select('div.r-ent')\n",
    "\n",
    "\n",
    "                #print(sections)\n",
    "                for section in sections:\n",
    "                    title = section.select('div.title')[0].text\n",
    "                    num = section.select('div.nrec')[0].text\n",
    "                    author = section.select('div.author')[0].text\n",
    "                    date = section.select('div.date')[0].text\n",
    "                    #字串處理\n",
    "                    title = title.strip()\n",
    "\n",
    "                    if(title.startswith('[公告]')):\n",
    "                        continue\n",
    "\n",
    "                    if(num.find('爆') != -1):\n",
    "                        num = '100'\n",
    "                    if(num.find('X') != -1 or num==''):\n",
    "                        num = '0'    \n",
    "\n",
    "                    #if(date.strip() == search_date):\n",
    "                        #print(title +'|'+ num + '|'+author +'|'+ date)\n",
    "                        writer = csv.writer(csvfile)\n",
    "                        writer.writerow([title,num,author,date])\n",
    "                        \n",
    "                        sql = '''\n",
    "                        INSERT INTO `new_media`.`ptt`(`title`,`num`,`author`,`date`) \n",
    "                        VALUES ('{}','{}','{}','{}')\n",
    "                        '''.format(title,num,author,date)\n",
    "                        print(sql)\n",
    "                        cursor.execute(sql)\n",
    "                        connection.commit()\n",
    "                        \n",
    "    \n",
    "    connection.close()\n",
    "    driver.close()\n",
    "except Exception as e:\n",
    "    print(e)\n",
    "    driver.close()"
   ]
  },
  {
   "cell_type": "code",
   "execution_count": 22,
   "metadata": {},
   "outputs": [
    {
     "data": {
      "text/plain": [
       "'/Users/cathy/python/chromedriver'"
      ]
     },
     "execution_count": 22,
     "metadata": {},
     "output_type": "execute_result"
    }
   ],
   "source": [
    "import os \n",
    "#取得目前執行路徑\n",
    "os.getcwd()+\"/chromedriver\""
   ]
  },
  {
   "cell_type": "code",
   "execution_count": 10,
   "metadata": {},
   "outputs": [
    {
     "name": "stdout",
     "output_type": "stream",
     "text": [
      "1\n"
     ]
    },
    {
     "data": {
      "text/plain": [
       "-1"
      ]
     },
     "execution_count": 10,
     "metadata": {},
     "output_type": "execute_result"
    }
   ],
   "source": [
    "#find尋找\n",
    "print('來個蹦蹦'.find('個'))\n",
    "\n",
    "'來個蹦蹦'.find('哈')"
   ]
  },
  {
   "cell_type": "code",
   "execution_count": 11,
   "metadata": {},
   "outputs": [
    {
     "data": {
      "text/plain": [
       "'我好棒'"
      ]
     },
     "execution_count": 11,
     "metadata": {},
     "output_type": "execute_result"
    }
   ],
   "source": [
    "#replace取代\n",
    "x = '911棒'\n",
    "x.replace('911','我好')"
   ]
  },
  {
   "cell_type": "code",
   "execution_count": 2,
   "metadata": {},
   "outputs": [
    {
     "data": {
      "text/plain": [
       "'123 45'"
      ]
     },
     "execution_count": 2,
     "metadata": {},
     "output_type": "execute_result"
    }
   ],
   "source": [
    "#strip去頭尾空白\n",
    "'  123 45  '.strip()"
   ]
  },
  {
   "cell_type": "code",
   "execution_count": 1,
   "metadata": {},
   "outputs": [
    {
     "data": {
      "text/plain": [
       "True"
      ]
     },
     "execution_count": 1,
     "metadata": {},
     "output_type": "execute_result"
    }
   ],
   "source": [
    "#startswith開頭字串為？\n",
    "#endswith結尾字串為？\n",
    "'中國新說唱'.startswith('中')\n",
    "'中國新說唱'.endswith('唱')"
   ]
  },
  {
   "cell_type": "code",
   "execution_count": 30,
   "metadata": {},
   "outputs": [
    {
     "name": "stdout",
     "output_type": "stream",
     "text": [
      "3/02\n"
     ]
    }
   ],
   "source": [
    "from datetime import date\n",
    "today = date.today()\n",
    "search_date = today.strftime('%-m/%d')\n",
    "print(search_date)"
   ]
  },
  {
   "cell_type": "code",
   "execution_count": 35,
   "metadata": {},
   "outputs": [
    {
     "data": {
      "text/plain": [
       "'/Users/cathy/python'"
      ]
     },
     "execution_count": 35,
     "metadata": {},
     "output_type": "execute_result"
    }
   ],
   "source": [
    "import os\n",
    "os.getcwd()"
   ]
  },
  {
   "cell_type": "code",
   "execution_count": 13,
   "metadata": {},
   "outputs": [
    {
     "name": "stderr",
     "output_type": "stream",
     "text": [
      "<ipython-input-13-68b5193666e2>:24: DeprecationWarning: use options instead of chrome_options\n",
      "  driver = webdriver.Chrome(os.getcwd()+\"/chromedriver\", chrome_options=options)\n"
     ]
    },
    {
     "name": "stdout",
     "output_type": "stream",
     "text": [
      "(已被Vedan刪除) <Kobe2630>1-6|0|-| 3/11\n",
      "Re: [討論] LBJ跟MJ都是GOAT不行嗎？|0|zxriffey| 3/11\n",
      "(已被Vedan刪除) <cha860430>1-2 3-5|0|-| 3/11\n",
      "Re: [討論] LBJ跟MJ都是GOAT不行嗎？|0|smallksc| 3/11\n",
      "(本文已被刪除) [Mopack22926]|0|-| 3/11\n",
      "(本文已被刪除) [go190214]|0|-| 3/10\n",
      "Re: [情報] 湖人助教：LBJ在昨日賽前主動表示他要防|0|playstore| 3/10\n",
      "(已被namie810303刪除) <leolu2013>1-1|0|-| 3/10\n",
      "(已被namie810303刪除) <shifa>球迷討論|0|-| 3/10\n",
      "Re: [討論] Curry是不是現今有成就也不被認可的球員?|0|vogue38| 3/09\n",
      "(本文已被刪除) [PttGod]|0|-| 3/09\n",
      "(已被Vedan刪除) <ericgary>1-2|0|-| 3/09\n",
      "[情報] 守LBJ有多難？天空貝：一點挑戰性都沒有|0|karta1992560| 3/09\n",
      "[討論] 不能帶領球隊往前的將算角色球員嗎？|0|b9606022| 3/09\n",
      "(已被dragon803刪除) <testtesttest>1-1 1-2違規|0|-| 3/09\n",
      "[Live] 公牛 @ 籃網|0|Rambo| 3/09\n",
      "(已被Vedan刪除) <derrengay>1-1 1-2|0|-| 3/08\n",
      "(已被Vedan刪除) <OAKIE>1-1 1-2|0|-| 3/08\n",
      "(本文已被刪除) [MyKay]|0|-| 3/08\n",
      "(本文已被刪除) [s9837099]|0|-| 3/08\n",
      "(已被V刪除) <zoo44>1-1 1-2 球迷討論 退|0|-| 3/08\n",
      "(本文已被刪除) <hosanna1022>|0|-| 3/07\n",
      "[討論] 很可惜，不過也不用太擔心公鹿|0|elgoogle| 3/07\n",
      "Re: [花邊] 字母哥：本想35歲就退役，但想追隨LBJ的|0|a894392000| 3/07\n",
      "[新聞] 巴克利酸言酸語不斷 勇士格林怒嗆將搶飯碗|0|currykukuo| 3/07\n"
     ]
    }
   ],
   "source": []
  },
  {
   "cell_type": "code",
   "execution_count": null,
   "metadata": {},
   "outputs": [],
   "source": []
  }
 ],
 "metadata": {
  "kernelspec": {
   "display_name": "Python 3",
   "language": "python",
   "name": "python3"
  },
  "language_info": {
   "codemirror_mode": {
    "name": "ipython",
    "version": 3
   },
   "file_extension": ".py",
   "mimetype": "text/x-python",
   "name": "python",
   "nbconvert_exporter": "python",
   "pygments_lexer": "ipython3",
   "version": "3.8.1"
  }
 },
 "nbformat": 4,
 "nbformat_minor": 2
}
